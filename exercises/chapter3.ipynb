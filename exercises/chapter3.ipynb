{
 "cells": [
  {
   "cell_type": "markdown",
   "source": [
    "# Statistics Foundations\r\n",
    "\r\n",
    "## Data Exercises\r\n",
    "\r\n",
    "For these exercises, load the charity_donation data set via the peopleanalyticsdata package, or download it from the [internet](http://peopleanalytics-regression-book.org/data/charity_donation.csv). This data set contains information on a sample of individuals who made donations to a nature charity."
   ],
   "metadata": {}
  },
  {
   "cell_type": "code",
   "execution_count": 1,
   "source": [
    "# import peopleanalyticsdata package\r\n",
    "import peopleanalyticsdata as pad\r\n",
    "import pandas as pd"
   ],
   "outputs": [],
   "metadata": {}
  },
  {
   "cell_type": "code",
   "execution_count": 2,
   "source": [
    "# see a list of data sets\r\n",
    "pad.list_sets()"
   ],
   "outputs": [
    {
     "output_type": "execute_result",
     "data": {
      "text/plain": [
       "['charity_donation',\n",
       " 'employee_survey',\n",
       " 'health_insurance',\n",
       " 'job_retention',\n",
       " 'managers',\n",
       " 'politics_survey',\n",
       " 'salespeople',\n",
       " 'soccer',\n",
       " 'sociological_data',\n",
       " 'speed_dating',\n",
       " 'ugtests',\n",
       " 'employee_performance',\n",
       " 'learning',\n",
       " 'graduates',\n",
       " 'promotion',\n",
       " 'recruiting']"
      ]
     },
     "metadata": {},
     "execution_count": 2
    }
   ],
   "metadata": {}
  },
  {
   "cell_type": "code",
   "execution_count": 3,
   "source": [
    "df = pad.charity_donation()\r\n",
    "df.head()"
   ],
   "outputs": [
    {
     "output_type": "execute_result",
     "data": {
      "text/html": [
       "<div>\n",
       "<style scoped>\n",
       "    .dataframe tbody tr th:only-of-type {\n",
       "        vertical-align: middle;\n",
       "    }\n",
       "\n",
       "    .dataframe tbody tr th {\n",
       "        vertical-align: top;\n",
       "    }\n",
       "\n",
       "    .dataframe thead th {\n",
       "        text-align: right;\n",
       "    }\n",
       "</style>\n",
       "<table border=\"1\" class=\"dataframe\">\n",
       "  <thead>\n",
       "    <tr style=\"text-align: right;\">\n",
       "      <th></th>\n",
       "      <th>n_donations</th>\n",
       "      <th>total_donations</th>\n",
       "      <th>time_donating</th>\n",
       "      <th>recent_donation</th>\n",
       "      <th>last_donation</th>\n",
       "      <th>gender</th>\n",
       "      <th>reside</th>\n",
       "      <th>age</th>\n",
       "    </tr>\n",
       "  </thead>\n",
       "  <tbody>\n",
       "    <tr>\n",
       "      <th>0</th>\n",
       "      <td>2</td>\n",
       "      <td>310</td>\n",
       "      <td>27</td>\n",
       "      <td>0</td>\n",
       "      <td>4</td>\n",
       "      <td>M</td>\n",
       "      <td>Urban Domestic</td>\n",
       "      <td>29</td>\n",
       "    </tr>\n",
       "    <tr>\n",
       "      <th>1</th>\n",
       "      <td>3</td>\n",
       "      <td>1200</td>\n",
       "      <td>22</td>\n",
       "      <td>0</td>\n",
       "      <td>6</td>\n",
       "      <td>M</td>\n",
       "      <td>Rural Domestic</td>\n",
       "      <td>41</td>\n",
       "    </tr>\n",
       "    <tr>\n",
       "      <th>2</th>\n",
       "      <td>3</td>\n",
       "      <td>1200</td>\n",
       "      <td>37</td>\n",
       "      <td>1</td>\n",
       "      <td>11</td>\n",
       "      <td>M</td>\n",
       "      <td>Urban Domestic</td>\n",
       "      <td>77</td>\n",
       "    </tr>\n",
       "    <tr>\n",
       "      <th>3</th>\n",
       "      <td>2</td>\n",
       "      <td>760</td>\n",
       "      <td>19</td>\n",
       "      <td>1</td>\n",
       "      <td>1</td>\n",
       "      <td>F</td>\n",
       "      <td>Overseas</td>\n",
       "      <td>66</td>\n",
       "    </tr>\n",
       "    <tr>\n",
       "      <th>4</th>\n",
       "      <td>6</td>\n",
       "      <td>2540</td>\n",
       "      <td>37</td>\n",
       "      <td>0</td>\n",
       "      <td>11</td>\n",
       "      <td>M</td>\n",
       "      <td>Urban Domestic</td>\n",
       "      <td>26</td>\n",
       "    </tr>\n",
       "  </tbody>\n",
       "</table>\n",
       "</div>"
      ],
      "text/plain": [
       "   n_donations  total_donations  time_donating  recent_donation  \\\n",
       "0            2              310             27                0   \n",
       "1            3             1200             22                0   \n",
       "2            3             1200             37                1   \n",
       "3            2              760             19                1   \n",
       "4            6             2540             37                0   \n",
       "\n",
       "   last_donation gender          reside  age  \n",
       "0              4      M  Urban Domestic   29  \n",
       "1              6      M  Rural Domestic   41  \n",
       "2             11      M  Urban Domestic   77  \n",
       "3              1      F        Overseas   66  \n",
       "4             11      M  Urban Domestic   26  "
      ]
     },
     "metadata": {},
     "execution_count": 3
    }
   ],
   "metadata": {}
  },
  {
   "cell_type": "code",
   "execution_count": 5,
   "source": [
    "df.info()"
   ],
   "outputs": [
    {
     "output_type": "stream",
     "name": "stdout",
     "text": [
      "<class 'pandas.core.frame.DataFrame'>\n",
      "RangeIndex: 354 entries, 0 to 353\n",
      "Data columns (total 8 columns):\n",
      " #   Column           Non-Null Count  Dtype \n",
      "---  ------           --------------  ----- \n",
      " 0   n_donations      354 non-null    int64 \n",
      " 1   total_donations  354 non-null    int64 \n",
      " 2   time_donating    354 non-null    int64 \n",
      " 3   recent_donation  354 non-null    int64 \n",
      " 4   last_donation    354 non-null    int64 \n",
      " 5   gender           354 non-null    object\n",
      " 6   reside           354 non-null    object\n",
      " 7   age              354 non-null    int64 \n",
      "dtypes: int64(6), object(2)\n",
      "memory usage: 22.2+ KB\n"
     ]
    }
   ],
   "metadata": {}
  },
  {
   "cell_type": "markdown",
   "source": [
    "### 1. Calculate the mean `total_donations` from the data set"
   ],
   "metadata": {}
  },
  {
   "cell_type": "code",
   "execution_count": 4,
   "source": [
    "df['total_donations'].mean()"
   ],
   "outputs": [
    {
     "output_type": "execute_result",
     "data": {
      "text/plain": [
       "2350.141242937853"
      ]
     },
     "metadata": {},
     "execution_count": 4
    }
   ],
   "metadata": {}
  },
  {
   "cell_type": "code",
   "execution_count": 61,
   "source": [
    "df.describe(include='all')"
   ],
   "outputs": [
    {
     "output_type": "execute_result",
     "data": {
      "text/html": [
       "<div>\n",
       "<style scoped>\n",
       "    .dataframe tbody tr th:only-of-type {\n",
       "        vertical-align: middle;\n",
       "    }\n",
       "\n",
       "    .dataframe tbody tr th {\n",
       "        vertical-align: top;\n",
       "    }\n",
       "\n",
       "    .dataframe thead th {\n",
       "        text-align: right;\n",
       "    }\n",
       "</style>\n",
       "<table border=\"1\" class=\"dataframe\">\n",
       "  <thead>\n",
       "    <tr style=\"text-align: right;\">\n",
       "      <th></th>\n",
       "      <th>n_donations</th>\n",
       "      <th>total_donations</th>\n",
       "      <th>time_donating</th>\n",
       "      <th>recent_donation</th>\n",
       "      <th>last_donation</th>\n",
       "      <th>gender</th>\n",
       "      <th>reside</th>\n",
       "      <th>age</th>\n",
       "    </tr>\n",
       "  </thead>\n",
       "  <tbody>\n",
       "    <tr>\n",
       "      <th>count</th>\n",
       "      <td>354.000000</td>\n",
       "      <td>354.000000</td>\n",
       "      <td>354.000000</td>\n",
       "      <td>354.000000</td>\n",
       "      <td>354.000000</td>\n",
       "      <td>354</td>\n",
       "      <td>354</td>\n",
       "      <td>354.000000</td>\n",
       "    </tr>\n",
       "    <tr>\n",
       "      <th>unique</th>\n",
       "      <td>NaN</td>\n",
       "      <td>NaN</td>\n",
       "      <td>NaN</td>\n",
       "      <td>NaN</td>\n",
       "      <td>NaN</td>\n",
       "      <td>2</td>\n",
       "      <td>3</td>\n",
       "      <td>NaN</td>\n",
       "    </tr>\n",
       "    <tr>\n",
       "      <th>top</th>\n",
       "      <td>NaN</td>\n",
       "      <td>NaN</td>\n",
       "      <td>NaN</td>\n",
       "      <td>NaN</td>\n",
       "      <td>NaN</td>\n",
       "      <td>F</td>\n",
       "      <td>Rural Domestic</td>\n",
       "      <td>NaN</td>\n",
       "    </tr>\n",
       "    <tr>\n",
       "      <th>freq</th>\n",
       "      <td>NaN</td>\n",
       "      <td>NaN</td>\n",
       "      <td>NaN</td>\n",
       "      <td>NaN</td>\n",
       "      <td>NaN</td>\n",
       "      <td>203</td>\n",
       "      <td>133</td>\n",
       "      <td>NaN</td>\n",
       "    </tr>\n",
       "    <tr>\n",
       "      <th>mean</th>\n",
       "      <td>5.751412</td>\n",
       "      <td>2350.141243</td>\n",
       "      <td>33.923729</td>\n",
       "      <td>0.234463</td>\n",
       "      <td>6.067797</td>\n",
       "      <td>NaN</td>\n",
       "      <td>NaN</td>\n",
       "      <td>46.997175</td>\n",
       "    </tr>\n",
       "    <tr>\n",
       "      <th>std</th>\n",
       "      <td>5.445097</td>\n",
       "      <td>2496.578561</td>\n",
       "      <td>13.600006</td>\n",
       "      <td>0.424263</td>\n",
       "      <td>3.792184</td>\n",
       "      <td>NaN</td>\n",
       "      <td>NaN</td>\n",
       "      <td>15.614604</td>\n",
       "    </tr>\n",
       "    <tr>\n",
       "      <th>min</th>\n",
       "      <td>2.000000</td>\n",
       "      <td>310.000000</td>\n",
       "      <td>15.000000</td>\n",
       "      <td>0.000000</td>\n",
       "      <td>1.000000</td>\n",
       "      <td>NaN</td>\n",
       "      <td>NaN</td>\n",
       "      <td>19.000000</td>\n",
       "    </tr>\n",
       "    <tr>\n",
       "      <th>25%</th>\n",
       "      <td>2.000000</td>\n",
       "      <td>760.000000</td>\n",
       "      <td>23.000000</td>\n",
       "      <td>0.000000</td>\n",
       "      <td>4.000000</td>\n",
       "      <td>NaN</td>\n",
       "      <td>NaN</td>\n",
       "      <td>33.000000</td>\n",
       "    </tr>\n",
       "    <tr>\n",
       "      <th>50%</th>\n",
       "      <td>4.000000</td>\n",
       "      <td>1650.000000</td>\n",
       "      <td>30.000000</td>\n",
       "      <td>0.000000</td>\n",
       "      <td>6.000000</td>\n",
       "      <td>NaN</td>\n",
       "      <td>NaN</td>\n",
       "      <td>47.000000</td>\n",
       "    </tr>\n",
       "    <tr>\n",
       "      <th>75%</th>\n",
       "      <td>7.000000</td>\n",
       "      <td>2990.000000</td>\n",
       "      <td>43.000000</td>\n",
       "      <td>0.000000</td>\n",
       "      <td>11.000000</td>\n",
       "      <td>NaN</td>\n",
       "      <td>NaN</td>\n",
       "      <td>57.000000</td>\n",
       "    </tr>\n",
       "    <tr>\n",
       "      <th>max</th>\n",
       "      <td>44.000000</td>\n",
       "      <td>19530.000000</td>\n",
       "      <td>70.000000</td>\n",
       "      <td>1.000000</td>\n",
       "      <td>12.000000</td>\n",
       "      <td>NaN</td>\n",
       "      <td>NaN</td>\n",
       "      <td>85.000000</td>\n",
       "    </tr>\n",
       "  </tbody>\n",
       "</table>\n",
       "</div>"
      ],
      "text/plain": [
       "        n_donations  total_donations  time_donating  recent_donation  \\\n",
       "count    354.000000       354.000000     354.000000       354.000000   \n",
       "unique          NaN              NaN            NaN              NaN   \n",
       "top             NaN              NaN            NaN              NaN   \n",
       "freq            NaN              NaN            NaN              NaN   \n",
       "mean       5.751412      2350.141243      33.923729         0.234463   \n",
       "std        5.445097      2496.578561      13.600006         0.424263   \n",
       "min        2.000000       310.000000      15.000000         0.000000   \n",
       "25%        2.000000       760.000000      23.000000         0.000000   \n",
       "50%        4.000000      1650.000000      30.000000         0.000000   \n",
       "75%        7.000000      2990.000000      43.000000         0.000000   \n",
       "max       44.000000     19530.000000      70.000000         1.000000   \n",
       "\n",
       "        last_donation gender          reside         age  \n",
       "count      354.000000    354             354  354.000000  \n",
       "unique            NaN      2               3         NaN  \n",
       "top               NaN      F  Rural Domestic         NaN  \n",
       "freq              NaN    203             133         NaN  \n",
       "mean         6.067797    NaN             NaN   46.997175  \n",
       "std          3.792184    NaN             NaN   15.614604  \n",
       "min          1.000000    NaN             NaN   19.000000  \n",
       "25%          4.000000    NaN             NaN   33.000000  \n",
       "50%          6.000000    NaN             NaN   47.000000  \n",
       "75%         11.000000    NaN             NaN   57.000000  \n",
       "max         12.000000    NaN             NaN   85.000000  "
      ]
     },
     "metadata": {},
     "execution_count": 61
    }
   ],
   "metadata": {}
  },
  {
   "cell_type": "markdown",
   "source": [
    "### 2. Calculate the sample variance for total_donation and convert this to a population variance."
   ],
   "metadata": {}
  },
  {
   "cell_type": "code",
   "execution_count": 15,
   "source": [
    "var_total_donation_sample = df['total_donations'].var() # normalized by N-1 by default (sample)\r\n",
    "var_total_donation_popul  = df['total_donations'].var(ddof=0)\r\n",
    "\r\n",
    "print(f\"The sample variance of the `total_donation` equals {var_total_donation_sample:.2f} while the population variance equals {var_total_donation_popul:.2f}\")\r\n",
    "print(f\"By using the equation Var_p = (n-1)/n Var_s, we obtain for the population variance {(1 - 1/len(df)) * var_total_donation_sample:.2f}\")"
   ],
   "outputs": [
    {
     "output_type": "stream",
     "name": "stdout",
     "text": [
      "The sample variance of the `total_donation` equals 6232904.51 while the population variance equals 6215297.44\n",
      "By using the equation Var_p = (n-1)/n Var_s, we obtain for the population variance 6215297.44\n"
     ]
    }
   ],
   "metadata": {}
  },
  {
   "cell_type": "markdown",
   "source": [
    "### 3.Calculate the sample standard deviation for total_donations and verify that it is the same as the square root of the sample variance."
   ],
   "metadata": {}
  },
  {
   "cell_type": "code",
   "execution_count": 17,
   "source": [
    "print(f\"The sample standard deviation equals {df['total_donations'].std(ddof=1):.2f} while the square root of the sample variance equals {var_total_donation_sample**.5:.2f}\")"
   ],
   "outputs": [
    {
     "output_type": "stream",
     "name": "stdout",
     "text": [
      "The sample standard deviation equals 2496.58 while the square root of the sample variance equals 2496.58\n"
     ]
    }
   ],
   "metadata": {}
  },
  {
   "cell_type": "markdown",
   "source": [
    "### 4. Calculate the sample correlation between total_donations and time_donating. By using an appropriate hypothesis test, determine if these two variables are independent in the overall population."
   ],
   "metadata": {}
  },
  {
   "cell_type": "code",
   "execution_count": 18,
   "source": [
    "df[['total_donations', 'time_donating']].corr()"
   ],
   "outputs": [
    {
     "output_type": "execute_result",
     "data": {
      "text/html": [
       "<div>\n",
       "<style scoped>\n",
       "    .dataframe tbody tr th:only-of-type {\n",
       "        vertical-align: middle;\n",
       "    }\n",
       "\n",
       "    .dataframe tbody tr th {\n",
       "        vertical-align: top;\n",
       "    }\n",
       "\n",
       "    .dataframe thead th {\n",
       "        text-align: right;\n",
       "    }\n",
       "</style>\n",
       "<table border=\"1\" class=\"dataframe\">\n",
       "  <thead>\n",
       "    <tr style=\"text-align: right;\">\n",
       "      <th></th>\n",
       "      <th>total_donations</th>\n",
       "      <th>time_donating</th>\n",
       "    </tr>\n",
       "  </thead>\n",
       "  <tbody>\n",
       "    <tr>\n",
       "      <th>total_donations</th>\n",
       "      <td>1.000000</td>\n",
       "      <td>0.616484</td>\n",
       "    </tr>\n",
       "    <tr>\n",
       "      <th>time_donating</th>\n",
       "      <td>0.616484</td>\n",
       "      <td>1.000000</td>\n",
       "    </tr>\n",
       "  </tbody>\n",
       "</table>\n",
       "</div>"
      ],
      "text/plain": [
       "                 total_donations  time_donating\n",
       "total_donations         1.000000       0.616484\n",
       "time_donating           0.616484       1.000000"
      ]
     },
     "metadata": {},
     "execution_count": 18
    }
   ],
   "metadata": {}
  },
  {
   "cell_type": "code",
   "execution_count": 38,
   "source": [
    "# more precise estimation of the correlation using scipy.stats\r\n",
    "from scipy import stats\r\n",
    "r, p = stats.pearsonr(df['total_donations'], df['time_donating'])\r\n",
    "\r\n",
    "print(f\"Correlation coefficient r = {r:3.2f}, with P value = {p:.5f}\")"
   ],
   "outputs": [
    {
     "output_type": "stream",
     "name": "stdout",
     "text": [
      "Correlation coefficient r = 0.62, with P value = 0.00000\n"
     ]
    }
   ],
   "metadata": {}
  },
  {
   "cell_type": "code",
   "execution_count": 36,
   "source": [
    "import matplotlib.pyplot as plt\r\n",
    "import seaborn as sns\r\n",
    "sns.regplot(\r\n",
    "    x='total_donations',\r\n",
    "    y='time_donating',\r\n",
    "    data=df,\r\n",
    "    x_jitter=100,\r\n",
    ")"
   ],
   "outputs": [
    {
     "output_type": "execute_result",
     "data": {
      "text/plain": [
       "<AxesSubplot:xlabel='total_donations', ylabel='time_donating'>"
      ]
     },
     "metadata": {},
     "execution_count": 36
    },
    {
     "output_type": "display_data",
     "data": {
      "image/png": "[encoded data removed]",
      "text/plain": [
       "<Figure size 432x288 with 1 Axes>"
      ]
     },
     "metadata": {
      "needs_background": "light"
     }
    }
   ],
   "metadata": {}
  },
  {
   "cell_type": "markdown",
   "source": [
    "The null hypothesis is that there is no correlation between variables. If the H0 were true, what is the chance that 354 randomly picked subjects would have an $r$ greater than 0.62 or less than -0.62?"
   ],
   "metadata": {}
  },
  {
   "cell_type": "code",
   "execution_count": 37,
   "source": [
    "# confirmation using pingouin\r\n",
    "import pingouin as pg\r\n",
    "pg.corr(x=df['total_donations'], y=df['time_donating'])"
   ],
   "outputs": [
    {
     "output_type": "execute_result",
     "data": {
      "text/html": [
       "<div>\n",
       "<style scoped>\n",
       "    .dataframe tbody tr th:only-of-type {\n",
       "        vertical-align: middle;\n",
       "    }\n",
       "\n",
       "    .dataframe tbody tr th {\n",
       "        vertical-align: top;\n",
       "    }\n",
       "\n",
       "    .dataframe thead th {\n",
       "        text-align: right;\n",
       "    }\n",
       "</style>\n",
       "<table border=\"1\" class=\"dataframe\">\n",
       "  <thead>\n",
       "    <tr style=\"text-align: right;\">\n",
       "      <th></th>\n",
       "      <th>n</th>\n",
       "      <th>r</th>\n",
       "      <th>CI95%</th>\n",
       "      <th>p-val</th>\n",
       "      <th>BF10</th>\n",
       "      <th>power</th>\n",
       "    </tr>\n",
       "  </thead>\n",
       "  <tbody>\n",
       "    <tr>\n",
       "      <th>pearson</th>\n",
       "      <td>354</td>\n",
       "      <td>0.616484</td>\n",
       "      <td>[0.55, 0.68]</td>\n",
       "      <td>1.953668e-38</td>\n",
       "      <td>1.456e+35</td>\n",
       "      <td>1.0</td>\n",
       "    </tr>\n",
       "  </tbody>\n",
       "</table>\n",
       "</div>"
      ],
      "text/plain": [
       "           n         r         CI95%         p-val       BF10  power\n",
       "pearson  354  0.616484  [0.55, 0.68]  1.953668e-38  1.456e+35    1.0"
      ]
     },
     "metadata": {},
     "execution_count": 37
    }
   ],
   "metadata": {}
  },
  {
   "cell_type": "markdown",
   "source": [
    "### 5. Calculate the mean and the standard error of the mean for the first 20 entries of total_donations"
   ],
   "metadata": {}
  },
  {
   "cell_type": "code",
   "execution_count": 41,
   "source": [
    "mean_total_donation_20 = df.loc[:19, 'total_donations'].mean()\r\n",
    "sem_total_donation_20  = df.loc[:19, 'total_donations'].sem()\r\n",
    "\r\n",
    "print(f\"The mean of the first 20 entries of `total donations` = {mean_total_donation_20:.2f} and the SE = {sem_total_donation_20:.2f}\")"
   ],
   "outputs": [
    {
     "output_type": "stream",
     "name": "stdout",
     "text": [
      "The mean of the first 20 entries of `total donations` = 1851.00 and the SE = 315.09\n"
     ]
    }
   ],
   "metadata": {}
  },
  {
   "cell_type": "markdown",
   "source": [
    "### 6. Calculate the mean and the standard error of the mean for the first 50 entries of total_donations. Verify that the standard error is less than in Exercise 5."
   ],
   "metadata": {}
  },
  {
   "cell_type": "code",
   "execution_count": 42,
   "source": [
    "mean_total_donation_50 = df.loc[:49, 'total_donations'].mean()\r\n",
    "sem_total_donation_50  = df.loc[:49, 'total_donations'].sem()\r\n",
    "\r\n",
    "print(f\"The mean of the first 50 entries of `total donations` = {mean_total_donation_50:.2f} and the SE = {sem_total_donation_50:.2f}\")\r\n",
    "print(f\"Is the standard error less than with 20 entries? {sem_total_donation_50 < sem_total_donation_20}\")"
   ],
   "outputs": [
    {
     "output_type": "stream",
     "name": "stdout",
     "text": [
      "The mean of the first 50 entries of `total donations` = 2026.40 and the SE = 240.75\n",
      "Is the standard error less than with 20 entries? True\n"
     ]
    }
   ],
   "metadata": {}
  },
  {
   "cell_type": "markdown",
   "source": [
    "### 7. By using an appropriate hypothesis test, determine if the mean age of those who made a recent donation is different from those who did not."
   ],
   "metadata": {}
  },
  {
   "cell_type": "code",
   "execution_count": 43,
   "source": [
    "df['recent_donation'].unique()"
   ],
   "outputs": [
    {
     "output_type": "execute_result",
     "data": {
      "text/plain": [
       "array([0, 1], dtype=int64)"
      ]
     },
     "metadata": {},
     "execution_count": 43
    }
   ],
   "metadata": {}
  },
  {
   "cell_type": "code",
   "execution_count": 46,
   "source": [
    "sns.boxplot(\r\n",
    "    x='recent_donation',\r\n",
    "    y='age',\r\n",
    "    data=df\r\n",
    ")\r\n",
    "\r\n",
    "sns.stripplot(\r\n",
    "    x='recent_donation',\r\n",
    "    y='age',\r\n",
    "    data=df,\r\n",
    "    color='black',\r\n",
    ");"
   ],
   "outputs": [
    {
     "output_type": "display_data",
     "data": {
      "image/png": "[encoded data removed]",
      "text/plain": [
       "<Figure size 432x288 with 1 Axes>"
      ]
     },
     "metadata": {
      "needs_background": "light"
     }
    }
   ],
   "metadata": {}
  },
  {
   "cell_type": "code",
   "execution_count": 57,
   "source": [
    "# we first check for equal variance, although it doesn't look True on the plot\r\n",
    "pg.homoscedasticity(\r\n",
    "    data=df,\r\n",
    "    dv='age', # long format dataframe\r\n",
    "    group='recent_donation'\r\n",
    ")"
   ],
   "outputs": [
    {
     "output_type": "execute_result",
     "data": {
      "text/html": [
       "<div>\n",
       "<style scoped>\n",
       "    .dataframe tbody tr th:only-of-type {\n",
       "        vertical-align: middle;\n",
       "    }\n",
       "\n",
       "    .dataframe tbody tr th {\n",
       "        vertical-align: top;\n",
       "    }\n",
       "\n",
       "    .dataframe thead th {\n",
       "        text-align: right;\n",
       "    }\n",
       "</style>\n",
       "<table border=\"1\" class=\"dataframe\">\n",
       "  <thead>\n",
       "    <tr style=\"text-align: right;\">\n",
       "      <th></th>\n",
       "      <th>W</th>\n",
       "      <th>pval</th>\n",
       "      <th>equal_var</th>\n",
       "    </tr>\n",
       "  </thead>\n",
       "  <tbody>\n",
       "    <tr>\n",
       "      <th>levene</th>\n",
       "      <td>14.446737</td>\n",
       "      <td>0.00017</td>\n",
       "      <td>False</td>\n",
       "    </tr>\n",
       "  </tbody>\n",
       "</table>\n",
       "</div>"
      ],
      "text/plain": [
       "                W     pval  equal_var\n",
       "levene  14.446737  0.00017      False"
      ]
     },
     "metadata": {},
     "execution_count": 57
    }
   ],
   "metadata": {}
  },
  {
   "cell_type": "code",
   "execution_count": 58,
   "source": [
    "# because the variances aren't equal, we use the Welch's t-test\r\n",
    "ix = df['recent_donation'] == 1\r\n",
    "\r\n",
    "pg.ttest(\r\n",
    "    x=df[ix] ['age'],\r\n",
    "    y=df[~ix]['age'],\r\n",
    "    correction=True,\r\n",
    ")"
   ],
   "outputs": [
    {
     "output_type": "execute_result",
     "data": {
      "text/html": [
       "<div>\n",
       "<style scoped>\n",
       "    .dataframe tbody tr th:only-of-type {\n",
       "        vertical-align: middle;\n",
       "    }\n",
       "\n",
       "    .dataframe tbody tr th {\n",
       "        vertical-align: top;\n",
       "    }\n",
       "\n",
       "    .dataframe thead th {\n",
       "        text-align: right;\n",
       "    }\n",
       "</style>\n",
       "<table border=\"1\" class=\"dataframe\">\n",
       "  <thead>\n",
       "    <tr style=\"text-align: right;\">\n",
       "      <th></th>\n",
       "      <th>T</th>\n",
       "      <th>dof</th>\n",
       "      <th>alternative</th>\n",
       "      <th>p-val</th>\n",
       "      <th>CI95%</th>\n",
       "      <th>cohen-d</th>\n",
       "      <th>BF10</th>\n",
       "      <th>power</th>\n",
       "    </tr>\n",
       "  </thead>\n",
       "  <tbody>\n",
       "    <tr>\n",
       "      <th>T-test</th>\n",
       "      <td>10.207145</td>\n",
       "      <td>105.150578</td>\n",
       "      <td>two-sided</td>\n",
       "      <td>2.069049e-17</td>\n",
       "      <td>[16.51, 24.48]</td>\n",
       "      <td>1.577989</td>\n",
       "      <td>2.514e+18</td>\n",
       "      <td>1.0</td>\n",
       "    </tr>\n",
       "  </tbody>\n",
       "</table>\n",
       "</div>"
      ],
      "text/plain": [
       "                T         dof alternative         p-val           CI95%  \\\n",
       "T-test  10.207145  105.150578   two-sided  2.069049e-17  [16.51, 24.48]   \n",
       "\n",
       "         cohen-d       BF10  power  \n",
       "T-test  1.577989  2.514e+18    1.0  "
      ]
     },
     "metadata": {},
     "execution_count": 58
    }
   ],
   "metadata": {}
  },
  {
   "cell_type": "code",
   "execution_count": 84,
   "source": [
    "pg.ttest(\r\n",
    "    x=df[ix] ['age'],\r\n",
    "    y=df[~ix]['age'],\r\n",
    "    correction='auto', # automatically uses Welch T-test when the sample sizes are unequal (default)\r\n",
    ")"
   ],
   "outputs": [
    {
     "output_type": "execute_result",
     "data": {
      "text/html": [
       "<div>\n",
       "<style scoped>\n",
       "    .dataframe tbody tr th:only-of-type {\n",
       "        vertical-align: middle;\n",
       "    }\n",
       "\n",
       "    .dataframe tbody tr th {\n",
       "        vertical-align: top;\n",
       "    }\n",
       "\n",
       "    .dataframe thead th {\n",
       "        text-align: right;\n",
       "    }\n",
       "</style>\n",
       "<table border=\"1\" class=\"dataframe\">\n",
       "  <thead>\n",
       "    <tr style=\"text-align: right;\">\n",
       "      <th></th>\n",
       "      <th>T</th>\n",
       "      <th>dof</th>\n",
       "      <th>alternative</th>\n",
       "      <th>p-val</th>\n",
       "      <th>CI95%</th>\n",
       "      <th>cohen-d</th>\n",
       "      <th>BF10</th>\n",
       "      <th>power</th>\n",
       "    </tr>\n",
       "  </thead>\n",
       "  <tbody>\n",
       "    <tr>\n",
       "      <th>T-test</th>\n",
       "      <td>10.207145</td>\n",
       "      <td>105.150578</td>\n",
       "      <td>two-sided</td>\n",
       "      <td>2.069049e-17</td>\n",
       "      <td>[16.51, 24.48]</td>\n",
       "      <td>1.577989</td>\n",
       "      <td>2.514e+18</td>\n",
       "      <td>1.0</td>\n",
       "    </tr>\n",
       "  </tbody>\n",
       "</table>\n",
       "</div>"
      ],
      "text/plain": [
       "                T         dof alternative         p-val           CI95%  \\\n",
       "T-test  10.207145  105.150578   two-sided  2.069049e-17  [16.51, 24.48]   \n",
       "\n",
       "         cohen-d       BF10  power  \n",
       "T-test  1.577989  2.514e+18    1.0  "
      ]
     },
     "metadata": {},
     "execution_count": 84
    }
   ],
   "metadata": {}
  },
  {
   "cell_type": "markdown",
   "source": [
    "### 8. By using an appropriate hypothesis test, determine if there is a difference in whether or not a recent donation was made according to where people reside."
   ],
   "metadata": {}
  },
  {
   "cell_type": "code",
   "execution_count": 60,
   "source": [
    "df['reside'].unique()"
   ],
   "outputs": [
    {
     "output_type": "execute_result",
     "data": {
      "text/plain": [
       "array(['Urban Domestic', 'Rural Domestic', 'Overseas'], dtype=object)"
      ]
     },
     "metadata": {},
     "execution_count": 60
    }
   ],
   "metadata": {}
  },
  {
   "cell_type": "code",
   "execution_count": 77,
   "source": [
    "table = pd.crosstab(\r\n",
    "    df['reside'],\r\n",
    "    df['recent_donation'],\r\n",
    ")\r\n",
    "\r\n",
    "table"
   ],
   "outputs": [
    {
     "output_type": "execute_result",
     "data": {
      "text/html": [
       "<div>\n",
       "<style scoped>\n",
       "    .dataframe tbody tr th:only-of-type {\n",
       "        vertical-align: middle;\n",
       "    }\n",
       "\n",
       "    .dataframe tbody tr th {\n",
       "        vertical-align: top;\n",
       "    }\n",
       "\n",
       "    .dataframe thead th {\n",
       "        text-align: right;\n",
       "    }\n",
       "</style>\n",
       "<table border=\"1\" class=\"dataframe\">\n",
       "  <thead>\n",
       "    <tr style=\"text-align: right;\">\n",
       "      <th>recent_donation</th>\n",
       "      <th>0</th>\n",
       "      <th>1</th>\n",
       "    </tr>\n",
       "    <tr>\n",
       "      <th>reside</th>\n",
       "      <th></th>\n",
       "      <th></th>\n",
       "    </tr>\n",
       "  </thead>\n",
       "  <tbody>\n",
       "    <tr>\n",
       "      <th>Overseas</th>\n",
       "      <td>101</td>\n",
       "      <td>14</td>\n",
       "    </tr>\n",
       "    <tr>\n",
       "      <th>Rural Domestic</th>\n",
       "      <td>88</td>\n",
       "      <td>45</td>\n",
       "    </tr>\n",
       "    <tr>\n",
       "      <th>Urban Domestic</th>\n",
       "      <td>82</td>\n",
       "      <td>24</td>\n",
       "    </tr>\n",
       "  </tbody>\n",
       "</table>\n",
       "</div>"
      ],
      "text/plain": [
       "recent_donation    0   1\n",
       "reside                  \n",
       "Overseas         101  14\n",
       "Rural Domestic    88  45\n",
       "Urban Domestic    82  24"
      ]
     },
     "metadata": {},
     "execution_count": 77
    }
   ],
   "metadata": {}
  },
  {
   "cell_type": "markdown",
   "source": [
    "There are more than 3 categories and the outcome is a count, therefore it's a task for Chi2"
   ],
   "metadata": {}
  },
  {
   "cell_type": "code",
   "execution_count": 76,
   "source": [
    "df['reside'].value_counts()"
   ],
   "outputs": [
    {
     "output_type": "execute_result",
     "data": {
      "text/plain": [
       "Rural Domestic    133\n",
       "Overseas          115\n",
       "Urban Domestic    106\n",
       "Name: reside, dtype: int64"
      ]
     },
     "metadata": {},
     "execution_count": 76
    }
   ],
   "metadata": {}
  },
  {
   "cell_type": "markdown",
   "source": [
    "If `reside` is not a good predictor for `recent_donation`, we should expect the same ratios accross the target classes."
   ],
   "metadata": {}
  },
  {
   "cell_type": "code",
   "execution_count": 74,
   "source": [
    "expected, observed, stats = pg.chi2_independence(\r\n",
    "    x='reside',\r\n",
    "    y='recent_donation',\r\n",
    "    data=df\r\n",
    ")\r\n",
    "\r\n",
    "expected"
   ],
   "outputs": [
    {
     "output_type": "execute_result",
     "data": {
      "text/html": [
       "<div>\n",
       "<style scoped>\n",
       "    .dataframe tbody tr th:only-of-type {\n",
       "        vertical-align: middle;\n",
       "    }\n",
       "\n",
       "    .dataframe tbody tr th {\n",
       "        vertical-align: top;\n",
       "    }\n",
       "\n",
       "    .dataframe thead th {\n",
       "        text-align: right;\n",
       "    }\n",
       "</style>\n",
       "<table border=\"1\" class=\"dataframe\">\n",
       "  <thead>\n",
       "    <tr style=\"text-align: right;\">\n",
       "      <th>recent_donation</th>\n",
       "      <th>0</th>\n",
       "      <th>1</th>\n",
       "    </tr>\n",
       "    <tr>\n",
       "      <th>reside</th>\n",
       "      <th></th>\n",
       "      <th></th>\n",
       "    </tr>\n",
       "  </thead>\n",
       "  <tbody>\n",
       "    <tr>\n",
       "      <th>Overseas</th>\n",
       "      <td>88.036723</td>\n",
       "      <td>26.963277</td>\n",
       "    </tr>\n",
       "    <tr>\n",
       "      <th>Rural Domestic</th>\n",
       "      <td>101.816384</td>\n",
       "      <td>31.183616</td>\n",
       "    </tr>\n",
       "    <tr>\n",
       "      <th>Urban Domestic</th>\n",
       "      <td>81.146893</td>\n",
       "      <td>24.853107</td>\n",
       "    </tr>\n",
       "  </tbody>\n",
       "</table>\n",
       "</div>"
      ],
      "text/plain": [
       "recent_donation           0          1\n",
       "reside                                \n",
       "Overseas          88.036723  26.963277\n",
       "Rural Domestic   101.816384  31.183616\n",
       "Urban Domestic    81.146893  24.853107"
      ]
     },
     "metadata": {},
     "execution_count": 74
    }
   ],
   "metadata": {}
  },
  {
   "cell_type": "code",
   "execution_count": 75,
   "source": [
    "observed"
   ],
   "outputs": [
    {
     "output_type": "execute_result",
     "data": {
      "text/html": [
       "<div>\n",
       "<style scoped>\n",
       "    .dataframe tbody tr th:only-of-type {\n",
       "        vertical-align: middle;\n",
       "    }\n",
       "\n",
       "    .dataframe tbody tr th {\n",
       "        vertical-align: top;\n",
       "    }\n",
       "\n",
       "    .dataframe thead th {\n",
       "        text-align: right;\n",
       "    }\n",
       "</style>\n",
       "<table border=\"1\" class=\"dataframe\">\n",
       "  <thead>\n",
       "    <tr style=\"text-align: right;\">\n",
       "      <th>recent_donation</th>\n",
       "      <th>0</th>\n",
       "      <th>1</th>\n",
       "    </tr>\n",
       "    <tr>\n",
       "      <th>reside</th>\n",
       "      <th></th>\n",
       "      <th></th>\n",
       "    </tr>\n",
       "  </thead>\n",
       "  <tbody>\n",
       "    <tr>\n",
       "      <th>Overseas</th>\n",
       "      <td>101</td>\n",
       "      <td>14</td>\n",
       "    </tr>\n",
       "    <tr>\n",
       "      <th>Rural Domestic</th>\n",
       "      <td>88</td>\n",
       "      <td>45</td>\n",
       "    </tr>\n",
       "    <tr>\n",
       "      <th>Urban Domestic</th>\n",
       "      <td>82</td>\n",
       "      <td>24</td>\n",
       "    </tr>\n",
       "  </tbody>\n",
       "</table>\n",
       "</div>"
      ],
      "text/plain": [
       "recent_donation    0   1\n",
       "reside                  \n",
       "Overseas         101  14\n",
       "Rural Domestic    88  45\n",
       "Urban Domestic    82  24"
      ]
     },
     "metadata": {},
     "execution_count": 75
    }
   ],
   "metadata": {}
  },
  {
   "cell_type": "code",
   "execution_count": 72,
   "source": [
    "pg.print_table(stats)"
   ],
   "outputs": [
    {
     "output_type": "stream",
     "name": "stdout",
     "text": [
      "test                  lambda    chi2    dof    pval    cramer    power\n",
      "------------------  --------  ------  -----  ------  --------  -------\n",
      "pearson                1.000  16.176  2.000   0.000     0.214    0.959\n",
      "cressie-read           0.667  16.314  2.000   0.000     0.215    0.960\n",
      "log-likelihood         0.000  16.777  2.000   0.000     0.218    0.965\n",
      "freeman-tukey         -0.500  17.307  2.000   0.000     0.221    0.969\n",
      "mod-log-likelihood    -1.000  18.019  2.000   0.000     0.226    0.975\n",
      "neyman                -2.000  20.118  2.000   0.000     0.238    0.986\n",
      "\n"
     ]
    }
   ],
   "metadata": {}
  },
  {
   "cell_type": "markdown",
   "source": [
    "Very low p-values indeed, the site of residence qualifies as a good predictor for the people who made a recent donation."
   ],
   "metadata": {}
  },
  {
   "cell_type": "code",
   "execution_count": 83,
   "source": [
    "from scipy.stats import chi2_contingency\r\n",
    "chi2, p, dof, expected = chi2_contingency(table)\r\n",
    "\r\n",
    "print(f\"chi² = {chi2:.3f}\")\r\n",
    "print(f\"P value = {p:.5f}\")\r\n",
    "print(f\"with {dof} degrees of freedom\")\r\n",
    "\r\n",
    "print(\"expected counts are:\")\r\n",
    "print(expected)"
   ],
   "outputs": [
    {
     "output_type": "stream",
     "name": "stdout",
     "text": [
      "chi² = 16.176\n",
      "P value = 0.00031\n",
      "with 2 degrees of freedom\n",
      "expected counts are:\n",
      "[[ 88.03672316  26.96327684]\n",
      " [101.81638418  31.18361582]\n",
      " [ 81.14689266  24.85310734]]\n"
     ]
    }
   ],
   "metadata": {}
  },
  {
   "cell_type": "markdown",
   "source": [
    "### 9. By using an appropriate hypothesis test, determine if the age of those who have recently donated is at least 10 years older than those who have not recently donated in the population.\r\n",
    "\r\n",
    "We are trying to establish if $\\bar{x_1} - 10 > \\bar{x_0}$ in the population. Alternatively stated, we are testing if $\\overline{x_1 - 10} > \\bar{x_0}$ in the population, so we are doing a _t_-test in our sample to compare $x1 - 10$ with $x0$. Our null hypothesis is that there is no difference between the means of $x1 - 10$ and $x0$. Our alternative hypothesis is that the mean of $x1 - 10$ is greater than the mean of $x0$. This requires a one sided t-test."
   ],
   "metadata": {}
  },
  {
   "cell_type": "code",
   "execution_count": 85,
   "source": [
    "pg.ttest(\r\n",
    "    x=df[ix] ['age'] - 10,\r\n",
    "    y=df[~ix]['age'],\r\n",
    "    alternative='greater' #`greater` tests against the alternative hypothesis that the mean of x is greater than the mean of y\r\n",
    ")"
   ],
   "outputs": [
    {
     "output_type": "execute_result",
     "data": {
      "text/html": [
       "<div>\n",
       "<style scoped>\n",
       "    .dataframe tbody tr th:only-of-type {\n",
       "        vertical-align: middle;\n",
       "    }\n",
       "\n",
       "    .dataframe tbody tr th {\n",
       "        vertical-align: top;\n",
       "    }\n",
       "\n",
       "    .dataframe thead th {\n",
       "        text-align: right;\n",
       "    }\n",
       "</style>\n",
       "<table border=\"1\" class=\"dataframe\">\n",
       "  <thead>\n",
       "    <tr style=\"text-align: right;\">\n",
       "      <th></th>\n",
       "      <th>T</th>\n",
       "      <th>dof</th>\n",
       "      <th>alternative</th>\n",
       "      <th>p-val</th>\n",
       "      <th>CI95%</th>\n",
       "      <th>cohen-d</th>\n",
       "      <th>BF10</th>\n",
       "      <th>power</th>\n",
       "    </tr>\n",
       "  </thead>\n",
       "  <tbody>\n",
       "    <tr>\n",
       "      <th>T-test</th>\n",
       "      <td>5.226802</td>\n",
       "      <td>105.150578</td>\n",
       "      <td>greater</td>\n",
       "      <td>4.403095e-07</td>\n",
       "      <td>[7.16, inf]</td>\n",
       "      <td>0.808046</td>\n",
       "      <td>8.275e+04</td>\n",
       "      <td>1.0</td>\n",
       "    </tr>\n",
       "  </tbody>\n",
       "</table>\n",
       "</div>"
      ],
      "text/plain": [
       "               T         dof alternative         p-val        CI95%   cohen-d  \\\n",
       "T-test  5.226802  105.150578     greater  4.403095e-07  [7.16, inf]  0.808046   \n",
       "\n",
       "             BF10  power  \n",
       "T-test  8.275e+04    1.0  "
      ]
     },
     "metadata": {},
     "execution_count": 85
    }
   ],
   "metadata": {}
  },
  {
   "cell_type": "markdown",
   "source": [
    "The p-value of this test meets an alpha standard of 0.001 and this confirms the alternate hypothesis that those who donated are at least ten years older than those who did not."
   ],
   "metadata": {}
  },
  {
   "cell_type": "code",
   "execution_count": 98,
   "source": [
    "# alternatively we can use ttest_ind method from scipy.stats\r\n",
    "from scipy import stats\r\n",
    "\r\n",
    "stats.ttest_ind(\r\n",
    "    df[ix] ['age'] - 10,\r\n",
    "    df[~ix]['age'],\r\n",
    "    equal_var=False,\r\n",
    "    alternative='greater', # defines the alternative hypothesis\r\n",
    ")"
   ],
   "outputs": [
    {
     "output_type": "execute_result",
     "data": {
      "text/plain": [
       "Ttest_indResult(statistic=5.2268021732859635, pvalue=4.4030947228348503e-07)"
      ]
     },
     "metadata": {},
     "execution_count": 98
    }
   ],
   "metadata": {}
  },
  {
   "cell_type": "code",
   "execution_count": 97,
   "source": [
    "stats.ttest_ind(\r\n",
    "    df[ix] ['age'],\r\n",
    "    df[~ix]['age'] + 10,\r\n",
    "    equal_var=False,\r\n",
    "    alternative='greater', # defines the alternative hypothesis\r\n",
    ")"
   ],
   "outputs": [
    {
     "output_type": "execute_result",
     "data": {
      "text/plain": [
       "Ttest_indResult(statistic=5.2268021732859635, pvalue=4.4030947228348503e-07)"
      ]
     },
     "metadata": {},
     "execution_count": 97
    }
   ],
   "metadata": {}
  },
  {
   "cell_type": "code",
   "execution_count": 93,
   "source": [
    "# using statsmodels\r\n",
    "import statsmodels.api as sm\r\n",
    "\r\n",
    "sm.stats.ttest_ind(\r\n",
    "    df[ix] ['age'],\r\n",
    "    df[~ix]['age'],\r\n",
    "    usevar='unequal',\r\n",
    "    alternative='larger',\r\n",
    "    value=10 # difference between the means under the null hypothesis\r\n",
    ")"
   ],
   "outputs": [
    {
     "output_type": "execute_result",
     "data": {
      "text/plain": [
       "(5.2268021732859635, 4.4030947228348514e-07, 105.15057759463707)"
      ]
     },
     "metadata": {},
     "execution_count": 93
    }
   ],
   "metadata": {}
  },
  {
   "cell_type": "markdown",
   "source": [
    "### 10. By using an appropriate hypothesis test, determine if the average donation amount is at least 10 dollars higher for those who recently donated versus those who did not. Retest for 20 dollars higher"
   ],
   "metadata": {}
  },
  {
   "cell_type": "code",
   "execution_count": 106,
   "source": [
    "sns.boxplot(\r\n",
    "    x='recent_donation',\r\n",
    "    y='total_donations',\r\n",
    "    data=df\r\n",
    ")\r\n",
    "\r\n",
    "sns.stripplot(\r\n",
    "    x='recent_donation',\r\n",
    "    y='total_donations',\r\n",
    "    data=df,\r\n",
    "    color='black',\r\n",
    ");"
   ],
   "outputs": [
    {
     "output_type": "display_data",
     "data": {
      "image/png": "[encoded data removed]",
      "text/plain": [
       "<Figure size 432x288 with 1 Axes>"
      ]
     },
     "metadata": {
      "needs_background": "light"
     }
    }
   ],
   "metadata": {}
  },
  {
   "cell_type": "code",
   "execution_count": 94,
   "source": [
    "pg.ttest(\r\n",
    "    x=df[ix] ['total_donations'] - 10,\r\n",
    "    y=df[~ix]['total_donations'],\r\n",
    "    alternative='greater' #`greater` tests against the alternative hypothesis that the mean of x is greater than the mean of y\r\n",
    ")"
   ],
   "outputs": [
    {
     "output_type": "execute_result",
     "data": {
      "text/html": [
       "<div>\n",
       "<style scoped>\n",
       "    .dataframe tbody tr th:only-of-type {\n",
       "        vertical-align: middle;\n",
       "    }\n",
       "\n",
       "    .dataframe tbody tr th {\n",
       "        vertical-align: top;\n",
       "    }\n",
       "\n",
       "    .dataframe thead th {\n",
       "        text-align: right;\n",
       "    }\n",
       "</style>\n",
       "<table border=\"1\" class=\"dataframe\">\n",
       "  <thead>\n",
       "    <tr style=\"text-align: right;\">\n",
       "      <th></th>\n",
       "      <th>T</th>\n",
       "      <th>dof</th>\n",
       "      <th>alternative</th>\n",
       "      <th>p-val</th>\n",
       "      <th>CI95%</th>\n",
       "      <th>cohen-d</th>\n",
       "      <th>BF10</th>\n",
       "      <th>power</th>\n",
       "    </tr>\n",
       "  </thead>\n",
       "  <tbody>\n",
       "    <tr>\n",
       "      <th>T-test</th>\n",
       "      <td>2.411699</td>\n",
       "      <td>130.344073</td>\n",
       "      <td>greater</td>\n",
       "      <td>0.008636</td>\n",
       "      <td>[241.51, inf]</td>\n",
       "      <td>0.311292</td>\n",
       "      <td>4.269</td>\n",
       "      <td>0.79722</td>\n",
       "    </tr>\n",
       "  </tbody>\n",
       "</table>\n",
       "</div>"
      ],
      "text/plain": [
       "               T         dof alternative     p-val          CI95%   cohen-d  \\\n",
       "T-test  2.411699  130.344073     greater  0.008636  [241.51, inf]  0.311292   \n",
       "\n",
       "         BF10    power  \n",
       "T-test  4.269  0.79722  "
      ]
     },
     "metadata": {},
     "execution_count": 94
    }
   ],
   "metadata": {}
  },
  {
   "cell_type": "code",
   "execution_count": 103,
   "source": [
    "pg.ttest(\r\n",
    "    x=df[ix] ['total_donations'] - 20,\r\n",
    "    y=df[~ix]['total_donations'],\r\n",
    "    alternative='greater' #`greater` tests against the alternative hypothesis that the mean of x is greater than the mean of y\r\n",
    ")"
   ],
   "outputs": [
    {
     "output_type": "execute_result",
     "data": {
      "text/html": [
       "<div>\n",
       "<style scoped>\n",
       "    .dataframe tbody tr th:only-of-type {\n",
       "        vertical-align: middle;\n",
       "    }\n",
       "\n",
       "    .dataframe tbody tr th {\n",
       "        vertical-align: top;\n",
       "    }\n",
       "\n",
       "    .dataframe thead th {\n",
       "        text-align: right;\n",
       "    }\n",
       "</style>\n",
       "<table border=\"1\" class=\"dataframe\">\n",
       "  <thead>\n",
       "    <tr style=\"text-align: right;\">\n",
       "      <th></th>\n",
       "      <th>T</th>\n",
       "      <th>dof</th>\n",
       "      <th>alternative</th>\n",
       "      <th>p-val</th>\n",
       "      <th>CI95%</th>\n",
       "      <th>cohen-d</th>\n",
       "      <th>BF10</th>\n",
       "      <th>power</th>\n",
       "    </tr>\n",
       "  </thead>\n",
       "  <tbody>\n",
       "    <tr>\n",
       "      <th>T-test</th>\n",
       "      <td>2.380434</td>\n",
       "      <td>130.344073</td>\n",
       "      <td>greater</td>\n",
       "      <td>0.00937</td>\n",
       "      <td>[231.51, inf]</td>\n",
       "      <td>0.307256</td>\n",
       "      <td>3.979</td>\n",
       "      <td>0.788037</td>\n",
       "    </tr>\n",
       "  </tbody>\n",
       "</table>\n",
       "</div>"
      ],
      "text/plain": [
       "               T         dof alternative    p-val          CI95%   cohen-d  \\\n",
       "T-test  2.380434  130.344073     greater  0.00937  [231.51, inf]  0.307256   \n",
       "\n",
       "         BF10     power  \n",
       "T-test  3.979  0.788037  "
      ]
     },
     "metadata": {},
     "execution_count": 103
    }
   ],
   "metadata": {}
  },
  {
   "cell_type": "code",
   "execution_count": 104,
   "source": [
    "pg.ttest(\r\n",
    "    x=df[ix] ['total_donations'] - 30,\r\n",
    "    y=df[~ix]['total_donations'],\r\n",
    "    alternative='greater' #`greater` tests against the alternative hypothesis that the mean of x is greater than the mean of y\r\n",
    ")"
   ],
   "outputs": [
    {
     "output_type": "execute_result",
     "data": {
      "text/html": [
       "<div>\n",
       "<style scoped>\n",
       "    .dataframe tbody tr th:only-of-type {\n",
       "        vertical-align: middle;\n",
       "    }\n",
       "\n",
       "    .dataframe tbody tr th {\n",
       "        vertical-align: top;\n",
       "    }\n",
       "\n",
       "    .dataframe thead th {\n",
       "        text-align: right;\n",
       "    }\n",
       "</style>\n",
       "<table border=\"1\" class=\"dataframe\">\n",
       "  <thead>\n",
       "    <tr style=\"text-align: right;\">\n",
       "      <th></th>\n",
       "      <th>T</th>\n",
       "      <th>dof</th>\n",
       "      <th>alternative</th>\n",
       "      <th>p-val</th>\n",
       "      <th>CI95%</th>\n",
       "      <th>cohen-d</th>\n",
       "      <th>BF10</th>\n",
       "      <th>power</th>\n",
       "    </tr>\n",
       "  </thead>\n",
       "  <tbody>\n",
       "    <tr>\n",
       "      <th>T-test</th>\n",
       "      <td>2.349169</td>\n",
       "      <td>130.344073</td>\n",
       "      <td>greater</td>\n",
       "      <td>0.010159</td>\n",
       "      <td>[221.51, inf]</td>\n",
       "      <td>0.303221</td>\n",
       "      <td>3.713</td>\n",
       "      <td>0.778614</td>\n",
       "    </tr>\n",
       "  </tbody>\n",
       "</table>\n",
       "</div>"
      ],
      "text/plain": [
       "               T         dof alternative     p-val          CI95%   cohen-d  \\\n",
       "T-test  2.349169  130.344073     greater  0.010159  [221.51, inf]  0.303221   \n",
       "\n",
       "         BF10     power  \n",
       "T-test  3.713  0.778614  "
      ]
     },
     "metadata": {},
     "execution_count": 104
    }
   ],
   "metadata": {}
  },
  {
   "cell_type": "markdown",
   "source": [],
   "metadata": {}
  }
 ],
 "metadata": {
  "orig_nbformat": 4,
  "language_info": {
   "name": "python",
   "version": "3.9.6",
   "mimetype": "text/x-python",
   "codemirror_mode": {
    "name": "ipython",
    "version": 3
   },
   "pygments_lexer": "ipython3",
   "nbconvert_exporter": "python",
   "file_extension": ".py"
  },
  "kernelspec": {
   "name": "python3",
   "display_name": "Python 3.9.6 64-bit"
  },
  "interpreter": {
   "hash": "35e05afc3bbf8458d25376a416e873cf169d04b2fc4efc2b77204c35b02a6d38"
  }
 },
 "nbformat": 4,
 "nbformat_minor": 2
}